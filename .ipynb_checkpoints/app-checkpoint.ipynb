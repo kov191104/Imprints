{
 "cells": [
  {
   "cell_type": "code",
   "execution_count": 3,
   "id": "2ad08a56-ae92-4a8c-912d-e6c8f232751e",
   "metadata": {},
   "outputs": [
    {
     "name": "stderr",
     "output_type": "stream",
     "text": [
      "WARNING:absl:Compiled the loaded model, but the compiled metrics have yet to be built. `model.compile_metrics` will be empty until you train or evaluate the model.\n"
     ]
    },
    {
     "name": "stdout",
     "output_type": "stream",
     "text": [
      " * Serving Flask app '__main__'\n",
      " * Debug mode: on\n"
     ]
    },
    {
     "name": "stderr",
     "output_type": "stream",
     "text": [
      "INFO:werkzeug:\u001b[31m\u001b[1mWARNING: This is a development server. Do not use it in a production deployment. Use a production WSGI server instead.\u001b[0m\n",
      " * Running on http://127.0.0.1:5000\n",
      "INFO:werkzeug:\u001b[33mPress CTRL+C to quit\u001b[0m\n",
      "INFO:werkzeug: * Restarting with watchdog (windowsapi)\n"
     ]
    },
    {
     "ename": "SystemExit",
     "evalue": "1",
     "output_type": "error",
     "traceback": [
      "An exception has occurred, use %tb to see the full traceback.\n",
      "\u001b[1;31mSystemExit\u001b[0m\u001b[1;31m:\u001b[0m 1\n"
     ]
    }
   ],
   "source": [
    "from flask import Flask, render_template, request, redirect, url_for\n",
    "from tensorflow.keras.models import load_model\n",
    "import numpy as np\n",
    "import cv2\n",
    "from PIL import Image\n",
    "import os\n",
    "\n",
    "app = Flask(__name__)\n",
    "\n",
    "model = load_model('./blood_group_fingerprint_model.h5')\n",
    "blood_groups = ['O-', 'O+', 'B-', 'B+', 'AB-', 'AB+', 'A-', 'A+']\n",
    "img_size = (128, 128)\n",
    "\n",
    "# def predict_blood_group(image_path, model):\n",
    "#     image = Image.open(image_path)\n",
    "#     image = image.resize(img_size)\n",
    "#     image = np.array(image) / 255.0\n",
    "#     image = np.expand_dims(image, axis=0)\n",
    "    \n",
    "#     prediction = model.predict(image)\n",
    "#     predicted_class = np.argmax(prediction)\n",
    "#     return blood_groups[predicted_class]\n",
    "\n",
    "def predict_blood_group(image_path, model):\n",
    "    image = Image.open(image_path).convert(\"RGB\")  # Ensure the image is in RGB format\n",
    "    image = image.resize(img_size)\n",
    "    image = np.array(image) / 255.0\n",
    "    image = np.expand_dims(image, axis=0)\n",
    "    \n",
    "    prediction = model.predict(image)\n",
    "    predicted_class = np.argmax(prediction)\n",
    "    return blood_groups[predicted_class]\n",
    "\n",
    "@app.route(\"/\", methods=[\"GET\", \"POST\"])\n",
    "def index():\n",
    "    if request.method == \"POST\":\n",
    "        if \"file\" not in request.files:\n",
    "            return redirect(request.url)\n",
    "        \n",
    "        file = request.files[\"file\"]\n",
    "        if file.filename == \"\":\n",
    "            return redirect(request.url)\n",
    "        \n",
    "        if file:\n",
    "            \n",
    "            filepath = os.path.join(\"static\", file.filename)\n",
    "            file.save(filepath)\n",
    "            \n",
    "            predicted_blood_group = predict_blood_group(filepath, model)\n",
    "            \n",
    "            return render_template(\"hi.html\", prediction=predicted_blood_group, image_path=filepath)\n",
    "    \n",
    "    return render_template(\"hi.html\", prediction=None)\n",
    "\n",
    "if __name__ == \"__main__\":\n",
    "    app.run(debug=True)\n"
   ]
  },
  {
   "cell_type": "code",
   "execution_count": null,
   "id": "b73e1342-d458-4aa7-96de-c53816d834d5",
   "metadata": {},
   "outputs": [
    {
     "name": "stdout",
     "output_type": "stream",
     "text": [
      " * Serving Flask app '__main__'\n",
      " * Debug mode: off\n"
     ]
    },
    {
     "name": "stderr",
     "output_type": "stream",
     "text": [
      "INFO:werkzeug:\u001b[31m\u001b[1mWARNING: This is a development server. Do not use it in a production deployment. Use a production WSGI server instead.\u001b[0m\n",
      " * Running on http://127.0.0.1:5000\n",
      "INFO:werkzeug:\u001b[33mPress CTRL+C to quit\u001b[0m\n",
      "INFO:werkzeug:127.0.0.1 - - [20/Nov/2024 20:31:52] \"GET / HTTP/1.1\" 200 -\n",
      "INFO:werkzeug:127.0.0.1 - - [20/Nov/2024 20:31:52] \"GET /static/hi.css HTTP/1.1\" 200 -\n",
      "INFO:werkzeug:127.0.0.1 - - [20/Nov/2024 20:31:53] \"\u001b[35m\u001b[1mGET /static/images/v2.mp4 HTTP/1.1\u001b[0m\" 206 -\n",
      "INFO:werkzeug:127.0.0.1 - - [20/Nov/2024 20:31:54] \"\u001b[35m\u001b[1mGET /static/images/v2.mp4 HTTP/1.1\u001b[0m\" 206 -\n",
      "INFO:werkzeug:127.0.0.1 - - [20/Nov/2024 20:31:58] \"\u001b[35m\u001b[1mGET /static/images/v2.mp4 HTTP/1.1\u001b[0m\" 206 -\n",
      "INFO:werkzeug:127.0.0.1 - - [20/Nov/2024 20:31:58] \"\u001b[35m\u001b[1mGET /static/images/v2.mp4 HTTP/1.1\u001b[0m\" 206 -\n",
      "INFO:werkzeug:127.0.0.1 - - [20/Nov/2024 20:33:35] \"GET / HTTP/1.1\" 200 -\n",
      "INFO:werkzeug:127.0.0.1 - - [20/Nov/2024 20:33:35] \"\u001b[36mGET /static/hi.css HTTP/1.1\u001b[0m\" 304 -\n",
      "INFO:werkzeug:127.0.0.1 - - [20/Nov/2024 20:33:35] \"\u001b[35m\u001b[1mGET /static/images/v2.mp4 HTTP/1.1\u001b[0m\" 206 -\n",
      "INFO:werkzeug:127.0.0.1 - - [20/Nov/2024 20:33:36] \"\u001b[35m\u001b[1mGET /static/images/v2.mp4 HTTP/1.1\u001b[0m\" 206 -\n",
      "INFO:werkzeug:127.0.0.1 - - [20/Nov/2024 20:33:38] \"\u001b[35m\u001b[1mGET /static/images/v2.mp4 HTTP/1.1\u001b[0m\" 206 -\n",
      "INFO:werkzeug:127.0.0.1 - - [20/Nov/2024 20:33:38] \"\u001b[35m\u001b[1mGET /static/images/v2.mp4 HTTP/1.1\u001b[0m\" 206 -\n"
     ]
    },
    {
     "name": "stdout",
     "output_type": "stream",
     "text": [
      "\u001b[1m1/1\u001b[0m \u001b[32m━━━━━━━━━━━━━━━━━━━━\u001b[0m\u001b[37m\u001b[0m \u001b[1m1s\u001b[0m 1s/step\n"
     ]
    },
    {
     "name": "stderr",
     "output_type": "stream",
     "text": [
      "INFO:werkzeug:127.0.0.1 - - [20/Nov/2024 20:34:15] \"POST / HTTP/1.1\" 200 -\n",
      "INFO:werkzeug:127.0.0.1 - - [20/Nov/2024 20:34:15] \"\u001b[36mGET /static/hi.css HTTP/1.1\u001b[0m\" 304 -\n",
      "INFO:werkzeug:127.0.0.1 - - [20/Nov/2024 20:34:15] \"\u001b[33mGET /static/static%5Ccluster_0_5913.BMP HTTP/1.1\u001b[0m\" 404 -\n"
     ]
    }
   ],
   "source": [
    "app.run(debug=False)"
   ]
  },
  {
   "cell_type": "code",
   "execution_count": null,
   "id": "f538b292",
   "metadata": {},
   "outputs": [],
   "source": []
  }
 ],
 "metadata": {
  "kernelspec": {
   "display_name": "Python 3 (ipykernel)",
   "language": "python",
   "name": "python3"
  },
  "language_info": {
   "codemirror_mode": {
    "name": "ipython",
    "version": 3
   },
   "file_extension": ".py",
   "mimetype": "text/x-python",
   "name": "python",
   "nbconvert_exporter": "python",
   "pygments_lexer": "ipython3",
   "version": "3.11.4"
  }
 },
 "nbformat": 4,
 "nbformat_minor": 5
}
