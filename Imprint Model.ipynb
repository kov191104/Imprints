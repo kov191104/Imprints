{
 "cells": [
  {
   "cell_type": "code",
   "execution_count": 1,
   "id": "4ee6db1c-0901-42b4-828a-91f3262062d2",
   "metadata": {},
   "outputs": [
    {
     "name": "stderr",
     "output_type": "stream",
     "text": [
      "K:\\anaconda_py\\Lib\\site-packages\\keras\\src\\layers\\convolutional\\base_conv.py:107: UserWarning: Do not pass an `input_shape`/`input_dim` argument to a layer. When using Sequential models, prefer using an `Input(shape)` object as the first layer in the model instead.\n",
      "  super().__init__(activity_regularizer=activity_regularizer, **kwargs)\n"
     ]
    },
    {
     "name": "stdout",
     "output_type": "stream",
     "text": [
      "Epoch 1/20\n",
      "\u001b[1m136/136\u001b[0m \u001b[32m━━━━━━━━━━━━━━━━━━━━\u001b[0m\u001b[37m\u001b[0m \u001b[1m57s\u001b[0m 393ms/step - accuracy: 0.3235 - loss: 2.3599 - val_accuracy: 0.8108 - val_loss: 0.6373\n",
      "Epoch 2/20\n",
      "\u001b[1m136/136\u001b[0m \u001b[32m━━━━━━━━━━━━━━━━━━━━\u001b[0m\u001b[37m\u001b[0m \u001b[1m50s\u001b[0m 366ms/step - accuracy: 0.7445 - loss: 0.6624 - val_accuracy: 0.8358 - val_loss: 0.4326\n",
      "Epoch 3/20\n",
      "\u001b[1m136/136\u001b[0m \u001b[32m━━━━━━━━━━━━━━━━━━━━\u001b[0m\u001b[37m\u001b[0m \u001b[1m50s\u001b[0m 367ms/step - accuracy: 0.8239 - loss: 0.4847 - val_accuracy: 0.8586 - val_loss: 0.3683\n",
      "Epoch 4/20\n",
      "\u001b[1m136/136\u001b[0m \u001b[32m━━━━━━━━━━━━━━━━━━━━\u001b[0m\u001b[37m\u001b[0m \u001b[1m50s\u001b[0m 370ms/step - accuracy: 0.8606 - loss: 0.3583 - val_accuracy: 0.8524 - val_loss: 0.3969\n",
      "Epoch 5/20\n",
      "\u001b[1m136/136\u001b[0m \u001b[32m━━━━━━━━━━━━━━━━━━━━\u001b[0m\u001b[37m\u001b[0m \u001b[1m50s\u001b[0m 367ms/step - accuracy: 0.9067 - loss: 0.2653 - val_accuracy: 0.8836 - val_loss: 0.3194\n",
      "Epoch 6/20\n",
      "\u001b[1m136/136\u001b[0m \u001b[32m━━━━━━━━━━━━━━━━━━━━\u001b[0m\u001b[37m\u001b[0m \u001b[1m49s\u001b[0m 363ms/step - accuracy: 0.9276 - loss: 0.2066 - val_accuracy: 0.9127 - val_loss: 0.2580\n",
      "Epoch 7/20\n",
      "\u001b[1m136/136\u001b[0m \u001b[32m━━━━━━━━━━━━━━━━━━━━\u001b[0m\u001b[37m\u001b[0m \u001b[1m49s\u001b[0m 357ms/step - accuracy: 0.9591 - loss: 0.1337 - val_accuracy: 0.8836 - val_loss: 0.2879\n",
      "Epoch 8/20\n",
      "\u001b[1m136/136\u001b[0m \u001b[32m━━━━━━━━━━━━━━━━━━━━\u001b[0m\u001b[37m\u001b[0m \u001b[1m49s\u001b[0m 357ms/step - accuracy: 0.9709 - loss: 0.0980 - val_accuracy: 0.9085 - val_loss: 0.2728\n",
      "Epoch 9/20\n",
      "\u001b[1m136/136\u001b[0m \u001b[32m━━━━━━━━━━━━━━━━━━━━\u001b[0m\u001b[37m\u001b[0m \u001b[1m48s\u001b[0m 352ms/step - accuracy: 0.9808 - loss: 0.0664 - val_accuracy: 0.8981 - val_loss: 0.2961\n",
      "Epoch 10/20\n",
      "\u001b[1m136/136\u001b[0m \u001b[32m━━━━━━━━━━━━━━━━━━━━\u001b[0m\u001b[37m\u001b[0m \u001b[1m48s\u001b[0m 355ms/step - accuracy: 0.9857 - loss: 0.0518 - val_accuracy: 0.8503 - val_loss: 0.4631\n",
      "Epoch 11/20\n",
      "\u001b[1m136/136\u001b[0m \u001b[32m━━━━━━━━━━━━━━━━━━━━\u001b[0m\u001b[37m\u001b[0m \u001b[1m82s\u001b[0m 356ms/step - accuracy: 0.9270 - loss: 0.2156 - val_accuracy: 0.8836 - val_loss: 0.3416\n",
      "Epoch 12/20\n",
      "\u001b[1m136/136\u001b[0m \u001b[32m━━━━━━━━━━━━━━━━━━━━\u001b[0m\u001b[37m\u001b[0m \u001b[1m49s\u001b[0m 362ms/step - accuracy: 0.9882 - loss: 0.0509 - val_accuracy: 0.8836 - val_loss: 0.3607\n",
      "Epoch 13/20\n",
      "\u001b[1m136/136\u001b[0m \u001b[32m━━━━━━━━━━━━━━━━━━━━\u001b[0m\u001b[37m\u001b[0m \u001b[1m49s\u001b[0m 357ms/step - accuracy: 0.9896 - loss: 0.0325 - val_accuracy: 0.8877 - val_loss: 0.3580\n",
      "Epoch 14/20\n",
      "\u001b[1m136/136\u001b[0m \u001b[32m━━━━━━━━━━━━━━━━━━━━\u001b[0m\u001b[37m\u001b[0m \u001b[1m49s\u001b[0m 358ms/step - accuracy: 0.9934 - loss: 0.0213 - val_accuracy: 0.8815 - val_loss: 0.3745\n",
      "Epoch 15/20\n",
      "\u001b[1m136/136\u001b[0m \u001b[32m━━━━━━━━━━━━━━━━━━━━\u001b[0m\u001b[37m\u001b[0m \u001b[1m50s\u001b[0m 370ms/step - accuracy: 0.9918 - loss: 0.0272 - val_accuracy: 0.8690 - val_loss: 0.4353\n",
      "Epoch 16/20\n",
      "\u001b[1m136/136\u001b[0m \u001b[32m━━━━━━━━━━━━━━━━━━━━\u001b[0m\u001b[37m\u001b[0m \u001b[1m50s\u001b[0m 368ms/step - accuracy: 0.9937 - loss: 0.0221 - val_accuracy: 0.8669 - val_loss: 0.4444\n",
      "Epoch 17/20\n",
      "\u001b[1m136/136\u001b[0m \u001b[32m━━━━━━━━━━━━━━━━━━━━\u001b[0m\u001b[37m\u001b[0m \u001b[1m48s\u001b[0m 352ms/step - accuracy: 0.9931 - loss: 0.0198 - val_accuracy: 0.8607 - val_loss: 0.5332\n",
      "Epoch 18/20\n",
      "\u001b[1m136/136\u001b[0m \u001b[32m━━━━━━━━━━━━━━━━━━━━\u001b[0m\u001b[37m\u001b[0m \u001b[1m48s\u001b[0m 355ms/step - accuracy: 0.9933 - loss: 0.0182 - val_accuracy: 0.8649 - val_loss: 0.4576\n",
      "Epoch 19/20\n",
      "\u001b[1m136/136\u001b[0m \u001b[32m━━━━━━━━━━━━━━━━━━━━\u001b[0m\u001b[37m\u001b[0m \u001b[1m48s\u001b[0m 351ms/step - accuracy: 0.9975 - loss: 0.0101 - val_accuracy: 0.8378 - val_loss: 0.6053\n",
      "Epoch 20/20\n",
      "\u001b[1m136/136\u001b[0m \u001b[32m━━━━━━━━━━━━━━━━━━━━\u001b[0m\u001b[37m\u001b[0m \u001b[1m53s\u001b[0m 392ms/step - accuracy: 0.9927 - loss: 0.0257 - val_accuracy: 0.8607 - val_loss: 0.4567\n"
     ]
    },
    {
     "name": "stderr",
     "output_type": "stream",
     "text": [
      "WARNING:absl:You are saving your model as an HDF5 file via `model.save()` or `keras.saving.save_model(model)`. This file format is considered legacy. We recommend using instead the native Keras format, e.g. `model.save('my_model.keras')` or `keras.saving.save_model(model, 'my_model.keras')`. \n"
     ]
    },
    {
     "name": "stdout",
     "output_type": "stream",
     "text": [
      "\u001b[1m38/38\u001b[0m \u001b[32m━━━━━━━━━━━━━━━━━━━━\u001b[0m\u001b[37m\u001b[0m \u001b[1m3s\u001b[0m 84ms/step\n",
      "Test Accuracy: 0.8426311407160699\n",
      "\n",
      "Classification Report:\n",
      "               precision    recall  f1-score   support\n",
      "\n",
      "          O-       0.88      0.73      0.80       163\n",
      "          O+       0.80      0.89      0.84       184\n",
      "          B-       0.94      0.83      0.88       140\n",
      "          B+       0.86      0.86      0.86       124\n",
      "         AB-       0.81      0.84      0.82       122\n",
      "         AB+       0.80      0.86      0.83       147\n",
      "          A-       0.81      0.86      0.84       197\n",
      "          A+       0.91      0.87      0.89       124\n",
      "\n",
      "    accuracy                           0.84      1201\n",
      "   macro avg       0.85      0.84      0.84      1201\n",
      "weighted avg       0.85      0.84      0.84      1201\n",
      "\n"
     ]
    }
   ],
   "source": [
    "import os\n",
    "import numpy as np\n",
    "import cv2\n",
    "from tensorflow.keras.models import Sequential\n",
    "from tensorflow.keras.layers import Dense, Conv2D, Flatten, MaxPooling2D, Dropout\n",
    "from tensorflow.keras.optimizers import Adam\n",
    "from tensorflow.keras.utils import to_categorical\n",
    "from sklearn.model_selection import train_test_split\n",
    "from sklearn.metrics import classification_report, accuracy_score\n",
    "\n",
    "data_path = r'./archive/dataset_blood_group'\n",
    "\n",
    "blood_groups = ['O-', 'O+', 'B-', 'B+', 'AB-', 'AB+', 'A-', 'A+']\n",
    "X, y = [], []\n",
    "\n",
    "for i, group in enumerate(blood_groups):\n",
    "    group_path = os.path.join(data_path, group)\n",
    "    for img_name in os.listdir(group_path):\n",
    "        img_path = os.path.join(group_path, img_name)\n",
    "        img = cv2.imread(img_path)\n",
    "        if img is not None:\n",
    "            img_resized = cv2.resize(img, (128, 128)) / 255.0\n",
    "            X.append(img_resized)\n",
    "            y.append(i)\n",
    "\n",
    "X = np.array(X)\n",
    "y = to_categorical(np.array(y), num_classes=len(blood_groups))\n",
    "\n",
    "\n",
    "X_train, X_test, y_train, y_test = train_test_split(X, y, test_size=0.2,\n",
    "                                                    random_state=42)\n",
    "\n",
    "\n",
    "model = Sequential([\n",
    "    Conv2D(32, (3, 3), activation='swish', input_shape=(128, 128, 3)),\n",
    "    MaxPooling2D((2, 2)),\n",
    "    Conv2D(64, (3, 3), activation='swish'),\n",
    "    MaxPooling2D((2, 2)),\n",
    "    Flatten(),\n",
    "    Dense(128, activation='swish'),\n",
    "    Dropout(0.1),\n",
    "    Dense(len(blood_groups), activation='softmax')\n",
    "])\n",
    "\n",
    "\n",
    "model.compile(optimizer=Adam(), loss='categorical_crossentropy', \n",
    "              metrics=['accuracy'])\n",
    "\n",
    "\n",
    "model.fit(X_train, y_train, epochs=20, validation_split=0.1, batch_size=32)\n",
    "\n",
    "\n",
    "model.save('./blood_group_fingerprint_model.h5')\n",
    "\n",
    "\n",
    "y_pred = np.argmax(model.predict(X_test), axis=1)\n",
    "y_test_labels = np.argmax(y_test, axis=1)\n",
    "print(\"Test Accuracy:\", accuracy_score(y_test_labels, y_pred))\n",
    "print(\"\\nClassification Report:\\n\", classification_report(y_test_labels, y_pred, target_names=blood_groups))\n"
   ]
  },
  {
   "cell_type": "code",
   "execution_count": null,
   "id": "93a65537",
   "metadata": {},
   "outputs": [],
   "source": []
  }
 ],
 "metadata": {
  "kernelspec": {
   "display_name": "Python 3 (ipykernel)",
   "language": "python",
   "name": "python3"
  },
  "language_info": {
   "codemirror_mode": {
    "name": "ipython",
    "version": 3
   },
   "file_extension": ".py",
   "mimetype": "text/x-python",
   "name": "python",
   "nbconvert_exporter": "python",
   "pygments_lexer": "ipython3",
   "version": "3.11.4"
  }
 },
 "nbformat": 4,
 "nbformat_minor": 5
}
